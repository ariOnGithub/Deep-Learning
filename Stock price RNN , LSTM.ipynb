{
 "cells": [
  {
   "cell_type": "code",
   "execution_count": null,
   "id": "d66f8f18",
   "metadata": {
    "_cell_guid": "b1076dfc-b9ad-4769-8c92-a6c4dae69d19",
    "_uuid": "8f2839f25d086af736a60e9eeb907d3b93b6e0e5",
    "execution": {
     "iopub.execute_input": "2022-09-08T14:47:55.602459Z",
     "iopub.status.busy": "2022-09-08T14:47:55.601789Z",
     "iopub.status.idle": "2022-09-08T14:47:56.634153Z",
     "shell.execute_reply": "2022-09-08T14:47:56.631771Z"
    },
    "id": "d66f8f18",
    "papermill": {
     "duration": 1.043718,
     "end_time": "2022-09-08T14:47:56.636636",
     "exception": false,
     "start_time": "2022-09-08T14:47:55.592918",
     "status": "completed"
    },
    "tags": []
   },
   "outputs": [],
   "source": [
    "import numpy as np\n",
    "import pandas as pd\n",
    "import matplotlib.pyplot as plt\n",
    "import seaborn as sns\n",
    "import os"
   ]
  },
  {
   "cell_type": "code",
   "execution_count": null,
   "id": "0_TtRc05KbdB",
   "metadata": {
    "colab": {
     "base_uri": "https://localhost:8080/"
    },
    "id": "0_TtRc05KbdB",
    "outputId": "9d1b66f7-3cb3-4185-e043-cfc706f77e41"
   },
   "outputs": [
    {
     "name": "stdout",
     "output_type": "stream",
     "text": [
      "Looking in indexes: https://pypi.org/simple, https://us-python.pkg.dev/colab-wheels/public/simple/\n",
      "Requirement already satisfied: kaggle in /usr/local/lib/python3.7/dist-packages (1.5.12)\n",
      "Requirement already satisfied: python-dateutil in /usr/local/lib/python3.7/dist-packages (from kaggle) (2.8.2)\n",
      "Requirement already satisfied: certifi in /usr/local/lib/python3.7/dist-packages (from kaggle) (2022.6.15)\n",
      "Requirement already satisfied: urllib3 in /usr/local/lib/python3.7/dist-packages (from kaggle) (1.24.3)\n",
      "Requirement already satisfied: python-slugify in /usr/local/lib/python3.7/dist-packages (from kaggle) (6.1.2)\n",
      "Requirement already satisfied: tqdm in /usr/local/lib/python3.7/dist-packages (from kaggle) (4.64.1)\n",
      "Requirement already satisfied: six>=1.10 in /usr/local/lib/python3.7/dist-packages (from kaggle) (1.15.0)\n",
      "Requirement already satisfied: requests in /usr/local/lib/python3.7/dist-packages (from kaggle) (2.23.0)\n",
      "Requirement already satisfied: text-unidecode>=1.3 in /usr/local/lib/python3.7/dist-packages (from python-slugify->kaggle) (1.3)\n",
      "Requirement already satisfied: idna<3,>=2.5 in /usr/local/lib/python3.7/dist-packages (from requests->kaggle) (2.10)\n",
      "Requirement already satisfied: chardet<4,>=3.0.2 in /usr/local/lib/python3.7/dist-packages (from requests->kaggle) (3.0.4)\n"
     ]
    }
   ],
   "source": [
    "!pip install kaggle"
   ]
  },
  {
   "cell_type": "code",
   "execution_count": null,
   "id": "cKE6oHkHKg1J",
   "metadata": {
    "colab": {
     "base_uri": "https://localhost:8080/"
    },
    "id": "cKE6oHkHKg1J",
    "outputId": "ae400493-0247-4545-eed6-bfb08e43068a"
   },
   "outputs": [
    {
     "name": "stdout",
     "output_type": "stream",
     "text": [
      "mkdir: cannot create directory ‘/root/.kaggle’: File exists\n"
     ]
    }
   ],
   "source": [
    "!mkdir ~/.kaggle"
   ]
  },
  {
   "cell_type": "markdown",
   "id": "m-GAI-6VJijV",
   "metadata": {
    "id": "m-GAI-6VJijV"
   },
   "source": [
    "Please generate an api key with kaggle and download te kaggle.json. Upload it to run the notebook"
   ]
  },
  {
   "cell_type": "code",
   "execution_count": null,
   "id": "CldX0luuLW3C",
   "metadata": {
    "id": "CldX0luuLW3C"
   },
   "outputs": [],
   "source": [
    "!cp /content/kaggle.json ~/.kaggle/kaggle.json"
   ]
  },
  {
   "cell_type": "code",
   "execution_count": null,
   "id": "fGluiVAHL-Xh",
   "metadata": {
    "id": "fGluiVAHL-Xh"
   },
   "outputs": [],
   "source": [
    "!chmod 600 ~/.kaggle/kaggle.json"
   ]
  },
  {
   "cell_type": "code",
   "execution_count": null,
   "id": "ncNHK9whME_J",
   "metadata": {
    "colab": {
     "base_uri": "https://localhost:8080/"
    },
    "id": "ncNHK9whME_J",
    "outputId": "3342d727-3534-4285-f7c9-242f5708b852"
   },
   "outputs": [
    {
     "name": "stdout",
     "output_type": "stream",
     "text": [
      "google-stock-price.zip: Skipping, found more recently modified local copy (use --force to force download)\n"
     ]
    }
   ],
   "source": [
    "!kaggle datasets download -d medharawat/google-stock-price"
   ]
  },
  {
   "cell_type": "code",
   "execution_count": null,
   "id": "suvIqqZSMkmC",
   "metadata": {
    "colab": {
     "base_uri": "https://localhost:8080/"
    },
    "id": "suvIqqZSMkmC",
    "outputId": "c4b779dc-2549-4ba5-d86b-986dadbc88dc"
   },
   "outputs": [
    {
     "name": "stdout",
     "output_type": "stream",
     "text": [
      "File Name                                             Modified             Size\n",
      "Google_Stock_Price_Test.csv                    2019-09-29 07:21:16         1029\n",
      "Google_Stock_Price_Train.csv                   2019-09-29 07:21:16        63488\n",
      "Extracting all the files now...\n",
      "Done!\n"
     ]
    }
   ],
   "source": [
    "from zipfile import ZipFile\n",
    "  \n",
    "file_name = \"/content/google-stock-price.zip\"\n",
    "\n",
    "with ZipFile(file_name, 'r') as zip:\n",
    "    # printing all the contents of the zip file\n",
    "    zip.printdir()\n",
    "    print('Extracting all the files now...')\n",
    "    zip.extractall()\n",
    "    print('Done!')"
   ]
  },
  {
   "cell_type": "code",
   "execution_count": null,
   "id": "25eac9b2",
   "metadata": {
    "colab": {
     "base_uri": "https://localhost:8080/",
     "height": 206
    },
    "execution": {
     "iopub.execute_input": "2022-09-08T14:47:56.684861Z",
     "iopub.status.busy": "2022-09-08T14:47:56.684243Z",
     "iopub.status.idle": "2022-09-08T14:47:56.720047Z",
     "shell.execute_reply": "2022-09-08T14:47:56.719433Z"
    },
    "id": "25eac9b2",
    "outputId": "337f2e58-fb5c-40cc-b400-4975c83c8141",
    "papermill": {
     "duration": 0.046766,
     "end_time": "2022-09-08T14:47:56.721914",
     "exception": false,
     "start_time": "2022-09-08T14:47:56.675148",
     "status": "completed"
    },
    "tags": []
   },
   "outputs": [
    {
     "data": {
      "text/html": [
       "\n",
       "  <div id=\"df-fb4f45cb-e9db-4d43-a8bb-6f908adea17a\">\n",
       "    <div class=\"colab-df-container\">\n",
       "      <div>\n",
       "<style scoped>\n",
       "    .dataframe tbody tr th:only-of-type {\n",
       "        vertical-align: middle;\n",
       "    }\n",
       "\n",
       "    .dataframe tbody tr th {\n",
       "        vertical-align: top;\n",
       "    }\n",
       "\n",
       "    .dataframe thead th {\n",
       "        text-align: right;\n",
       "    }\n",
       "</style>\n",
       "<table border=\"1\" class=\"dataframe\">\n",
       "  <thead>\n",
       "    <tr style=\"text-align: right;\">\n",
       "      <th></th>\n",
       "      <th>Date</th>\n",
       "      <th>Open</th>\n",
       "      <th>High</th>\n",
       "      <th>Low</th>\n",
       "      <th>Close</th>\n",
       "      <th>Volume</th>\n",
       "    </tr>\n",
       "  </thead>\n",
       "  <tbody>\n",
       "    <tr>\n",
       "      <th>0</th>\n",
       "      <td>1/3/2012</td>\n",
       "      <td>325.25</td>\n",
       "      <td>332.83</td>\n",
       "      <td>324.97</td>\n",
       "      <td>663.59</td>\n",
       "      <td>7,380,500</td>\n",
       "    </tr>\n",
       "    <tr>\n",
       "      <th>1</th>\n",
       "      <td>1/4/2012</td>\n",
       "      <td>331.27</td>\n",
       "      <td>333.87</td>\n",
       "      <td>329.08</td>\n",
       "      <td>666.45</td>\n",
       "      <td>5,749,400</td>\n",
       "    </tr>\n",
       "    <tr>\n",
       "      <th>2</th>\n",
       "      <td>1/5/2012</td>\n",
       "      <td>329.83</td>\n",
       "      <td>330.75</td>\n",
       "      <td>326.89</td>\n",
       "      <td>657.21</td>\n",
       "      <td>6,590,300</td>\n",
       "    </tr>\n",
       "    <tr>\n",
       "      <th>3</th>\n",
       "      <td>1/6/2012</td>\n",
       "      <td>328.34</td>\n",
       "      <td>328.77</td>\n",
       "      <td>323.68</td>\n",
       "      <td>648.24</td>\n",
       "      <td>5,405,900</td>\n",
       "    </tr>\n",
       "    <tr>\n",
       "      <th>4</th>\n",
       "      <td>1/9/2012</td>\n",
       "      <td>322.04</td>\n",
       "      <td>322.29</td>\n",
       "      <td>309.46</td>\n",
       "      <td>620.76</td>\n",
       "      <td>11,688,800</td>\n",
       "    </tr>\n",
       "  </tbody>\n",
       "</table>\n",
       "</div>\n",
       "      <button class=\"colab-df-convert\" onclick=\"convertToInteractive('df-fb4f45cb-e9db-4d43-a8bb-6f908adea17a')\"\n",
       "              title=\"Convert this dataframe to an interactive table.\"\n",
       "              style=\"display:none;\">\n",
       "        \n",
       "  <svg xmlns=\"http://www.w3.org/2000/svg\" height=\"24px\"viewBox=\"0 0 24 24\"\n",
       "       width=\"24px\">\n",
       "    <path d=\"M0 0h24v24H0V0z\" fill=\"none\"/>\n",
       "    <path d=\"M18.56 5.44l.94 2.06.94-2.06 2.06-.94-2.06-.94-.94-2.06-.94 2.06-2.06.94zm-11 1L8.5 8.5l.94-2.06 2.06-.94-2.06-.94L8.5 2.5l-.94 2.06-2.06.94zm10 10l.94 2.06.94-2.06 2.06-.94-2.06-.94-.94-2.06-.94 2.06-2.06.94z\"/><path d=\"M17.41 7.96l-1.37-1.37c-.4-.4-.92-.59-1.43-.59-.52 0-1.04.2-1.43.59L10.3 9.45l-7.72 7.72c-.78.78-.78 2.05 0 2.83L4 21.41c.39.39.9.59 1.41.59.51 0 1.02-.2 1.41-.59l7.78-7.78 2.81-2.81c.8-.78.8-2.07 0-2.86zM5.41 20L4 18.59l7.72-7.72 1.47 1.35L5.41 20z\"/>\n",
       "  </svg>\n",
       "      </button>\n",
       "      \n",
       "  <style>\n",
       "    .colab-df-container {\n",
       "      display:flex;\n",
       "      flex-wrap:wrap;\n",
       "      gap: 12px;\n",
       "    }\n",
       "\n",
       "    .colab-df-convert {\n",
       "      background-color: #E8F0FE;\n",
       "      border: none;\n",
       "      border-radius: 50%;\n",
       "      cursor: pointer;\n",
       "      display: none;\n",
       "      fill: #1967D2;\n",
       "      height: 32px;\n",
       "      padding: 0 0 0 0;\n",
       "      width: 32px;\n",
       "    }\n",
       "\n",
       "    .colab-df-convert:hover {\n",
       "      background-color: #E2EBFA;\n",
       "      box-shadow: 0px 1px 2px rgba(60, 64, 67, 0.3), 0px 1px 3px 1px rgba(60, 64, 67, 0.15);\n",
       "      fill: #174EA6;\n",
       "    }\n",
       "\n",
       "    [theme=dark] .colab-df-convert {\n",
       "      background-color: #3B4455;\n",
       "      fill: #D2E3FC;\n",
       "    }\n",
       "\n",
       "    [theme=dark] .colab-df-convert:hover {\n",
       "      background-color: #434B5C;\n",
       "      box-shadow: 0px 1px 3px 1px rgba(0, 0, 0, 0.15);\n",
       "      filter: drop-shadow(0px 1px 2px rgba(0, 0, 0, 0.3));\n",
       "      fill: #FFFFFF;\n",
       "    }\n",
       "  </style>\n",
       "\n",
       "      <script>\n",
       "        const buttonEl =\n",
       "          document.querySelector('#df-fb4f45cb-e9db-4d43-a8bb-6f908adea17a button.colab-df-convert');\n",
       "        buttonEl.style.display =\n",
       "          google.colab.kernel.accessAllowed ? 'block' : 'none';\n",
       "\n",
       "        async function convertToInteractive(key) {\n",
       "          const element = document.querySelector('#df-fb4f45cb-e9db-4d43-a8bb-6f908adea17a');\n",
       "          const dataTable =\n",
       "            await google.colab.kernel.invokeFunction('convertToInteractive',\n",
       "                                                     [key], {});\n",
       "          if (!dataTable) return;\n",
       "\n",
       "          const docLinkHtml = 'Like what you see? Visit the ' +\n",
       "            '<a target=\"_blank\" href=https://colab.research.google.com/notebooks/data_table.ipynb>data table notebook</a>'\n",
       "            + ' to learn more about interactive tables.';\n",
       "          element.innerHTML = '';\n",
       "          dataTable['output_type'] = 'display_data';\n",
       "          await google.colab.output.renderOutput(dataTable, element);\n",
       "          const docLink = document.createElement('div');\n",
       "          docLink.innerHTML = docLinkHtml;\n",
       "          element.appendChild(docLink);\n",
       "        }\n",
       "      </script>\n",
       "    </div>\n",
       "  </div>\n",
       "  "
      ],
      "text/plain": [
       "       Date    Open    High     Low   Close      Volume\n",
       "0  1/3/2012  325.25  332.83  324.97  663.59   7,380,500\n",
       "1  1/4/2012  331.27  333.87  329.08  666.45   5,749,400\n",
       "2  1/5/2012  329.83  330.75  326.89  657.21   6,590,300\n",
       "3  1/6/2012  328.34  328.77  323.68  648.24   5,405,900\n",
       "4  1/9/2012  322.04  322.29  309.46  620.76  11,688,800"
      ]
     },
     "execution_count": 226,
     "metadata": {},
     "output_type": "execute_result"
    }
   ],
   "source": [
    "data = pd.read_csv(\"/content/Google_Stock_Price_Train.csv\")\n",
    "data.head()"
   ]
  },
  {
   "cell_type": "code",
   "execution_count": null,
   "id": "kvzZ0qU2WyIa",
   "metadata": {
    "colab": {
     "base_uri": "https://localhost:8080/",
     "height": 206
    },
    "id": "kvzZ0qU2WyIa",
    "outputId": "8373c76f-99df-49a3-f0a2-41180cc81fd6"
   },
   "outputs": [
    {
     "data": {
      "text/html": [
       "\n",
       "  <div id=\"df-63f30e36-bde8-4dc0-b360-7ba71bebae50\">\n",
       "    <div class=\"colab-df-container\">\n",
       "      <div>\n",
       "<style scoped>\n",
       "    .dataframe tbody tr th:only-of-type {\n",
       "        vertical-align: middle;\n",
       "    }\n",
       "\n",
       "    .dataframe tbody tr th {\n",
       "        vertical-align: top;\n",
       "    }\n",
       "\n",
       "    .dataframe thead th {\n",
       "        text-align: right;\n",
       "    }\n",
       "</style>\n",
       "<table border=\"1\" class=\"dataframe\">\n",
       "  <thead>\n",
       "    <tr style=\"text-align: right;\">\n",
       "      <th></th>\n",
       "      <th>Date</th>\n",
       "      <th>Open</th>\n",
       "      <th>High</th>\n",
       "      <th>Low</th>\n",
       "      <th>Close</th>\n",
       "      <th>Volume</th>\n",
       "    </tr>\n",
       "  </thead>\n",
       "  <tbody>\n",
       "    <tr>\n",
       "      <th>0</th>\n",
       "      <td>1/3/2017</td>\n",
       "      <td>778.81</td>\n",
       "      <td>789.63</td>\n",
       "      <td>775.80</td>\n",
       "      <td>786.14</td>\n",
       "      <td>1,657,300</td>\n",
       "    </tr>\n",
       "    <tr>\n",
       "      <th>1</th>\n",
       "      <td>1/4/2017</td>\n",
       "      <td>788.36</td>\n",
       "      <td>791.34</td>\n",
       "      <td>783.16</td>\n",
       "      <td>786.90</td>\n",
       "      <td>1,073,000</td>\n",
       "    </tr>\n",
       "    <tr>\n",
       "      <th>2</th>\n",
       "      <td>1/5/2017</td>\n",
       "      <td>786.08</td>\n",
       "      <td>794.48</td>\n",
       "      <td>785.02</td>\n",
       "      <td>794.02</td>\n",
       "      <td>1,335,200</td>\n",
       "    </tr>\n",
       "    <tr>\n",
       "      <th>3</th>\n",
       "      <td>1/6/2017</td>\n",
       "      <td>795.26</td>\n",
       "      <td>807.90</td>\n",
       "      <td>792.20</td>\n",
       "      <td>806.15</td>\n",
       "      <td>1,640,200</td>\n",
       "    </tr>\n",
       "    <tr>\n",
       "      <th>4</th>\n",
       "      <td>1/9/2017</td>\n",
       "      <td>806.40</td>\n",
       "      <td>809.97</td>\n",
       "      <td>802.83</td>\n",
       "      <td>806.65</td>\n",
       "      <td>1,272,400</td>\n",
       "    </tr>\n",
       "  </tbody>\n",
       "</table>\n",
       "</div>\n",
       "      <button class=\"colab-df-convert\" onclick=\"convertToInteractive('df-63f30e36-bde8-4dc0-b360-7ba71bebae50')\"\n",
       "              title=\"Convert this dataframe to an interactive table.\"\n",
       "              style=\"display:none;\">\n",
       "        \n",
       "  <svg xmlns=\"http://www.w3.org/2000/svg\" height=\"24px\"viewBox=\"0 0 24 24\"\n",
       "       width=\"24px\">\n",
       "    <path d=\"M0 0h24v24H0V0z\" fill=\"none\"/>\n",
       "    <path d=\"M18.56 5.44l.94 2.06.94-2.06 2.06-.94-2.06-.94-.94-2.06-.94 2.06-2.06.94zm-11 1L8.5 8.5l.94-2.06 2.06-.94-2.06-.94L8.5 2.5l-.94 2.06-2.06.94zm10 10l.94 2.06.94-2.06 2.06-.94-2.06-.94-.94-2.06-.94 2.06-2.06.94z\"/><path d=\"M17.41 7.96l-1.37-1.37c-.4-.4-.92-.59-1.43-.59-.52 0-1.04.2-1.43.59L10.3 9.45l-7.72 7.72c-.78.78-.78 2.05 0 2.83L4 21.41c.39.39.9.59 1.41.59.51 0 1.02-.2 1.41-.59l7.78-7.78 2.81-2.81c.8-.78.8-2.07 0-2.86zM5.41 20L4 18.59l7.72-7.72 1.47 1.35L5.41 20z\"/>\n",
       "  </svg>\n",
       "      </button>\n",
       "      \n",
       "  <style>\n",
       "    .colab-df-container {\n",
       "      display:flex;\n",
       "      flex-wrap:wrap;\n",
       "      gap: 12px;\n",
       "    }\n",
       "\n",
       "    .colab-df-convert {\n",
       "      background-color: #E8F0FE;\n",
       "      border: none;\n",
       "      border-radius: 50%;\n",
       "      cursor: pointer;\n",
       "      display: none;\n",
       "      fill: #1967D2;\n",
       "      height: 32px;\n",
       "      padding: 0 0 0 0;\n",
       "      width: 32px;\n",
       "    }\n",
       "\n",
       "    .colab-df-convert:hover {\n",
       "      background-color: #E2EBFA;\n",
       "      box-shadow: 0px 1px 2px rgba(60, 64, 67, 0.3), 0px 1px 3px 1px rgba(60, 64, 67, 0.15);\n",
       "      fill: #174EA6;\n",
       "    }\n",
       "\n",
       "    [theme=dark] .colab-df-convert {\n",
       "      background-color: #3B4455;\n",
       "      fill: #D2E3FC;\n",
       "    }\n",
       "\n",
       "    [theme=dark] .colab-df-convert:hover {\n",
       "      background-color: #434B5C;\n",
       "      box-shadow: 0px 1px 3px 1px rgba(0, 0, 0, 0.15);\n",
       "      filter: drop-shadow(0px 1px 2px rgba(0, 0, 0, 0.3));\n",
       "      fill: #FFFFFF;\n",
       "    }\n",
       "  </style>\n",
       "\n",
       "      <script>\n",
       "        const buttonEl =\n",
       "          document.querySelector('#df-63f30e36-bde8-4dc0-b360-7ba71bebae50 button.colab-df-convert');\n",
       "        buttonEl.style.display =\n",
       "          google.colab.kernel.accessAllowed ? 'block' : 'none';\n",
       "\n",
       "        async function convertToInteractive(key) {\n",
       "          const element = document.querySelector('#df-63f30e36-bde8-4dc0-b360-7ba71bebae50');\n",
       "          const dataTable =\n",
       "            await google.colab.kernel.invokeFunction('convertToInteractive',\n",
       "                                                     [key], {});\n",
       "          if (!dataTable) return;\n",
       "\n",
       "          const docLinkHtml = 'Like what you see? Visit the ' +\n",
       "            '<a target=\"_blank\" href=https://colab.research.google.com/notebooks/data_table.ipynb>data table notebook</a>'\n",
       "            + ' to learn more about interactive tables.';\n",
       "          element.innerHTML = '';\n",
       "          dataTable['output_type'] = 'display_data';\n",
       "          await google.colab.output.renderOutput(dataTable, element);\n",
       "          const docLink = document.createElement('div');\n",
       "          docLink.innerHTML = docLinkHtml;\n",
       "          element.appendChild(docLink);\n",
       "        }\n",
       "      </script>\n",
       "    </div>\n",
       "  </div>\n",
       "  "
      ],
      "text/plain": [
       "       Date    Open    High     Low   Close     Volume\n",
       "0  1/3/2017  778.81  789.63  775.80  786.14  1,657,300\n",
       "1  1/4/2017  788.36  791.34  783.16  786.90  1,073,000\n",
       "2  1/5/2017  786.08  794.48  785.02  794.02  1,335,200\n",
       "3  1/6/2017  795.26  807.90  792.20  806.15  1,640,200\n",
       "4  1/9/2017  806.40  809.97  802.83  806.65  1,272,400"
      ]
     },
     "execution_count": 227,
     "metadata": {},
     "output_type": "execute_result"
    }
   ],
   "source": [
    "test_data = pd.read_csv(\"/content/Google_Stock_Price_Test.csv\")\n",
    "test_data.head()"
   ]
  },
  {
   "cell_type": "code",
   "execution_count": null,
   "id": "04dfba82",
   "metadata": {
    "colab": {
     "base_uri": "https://localhost:8080/"
    },
    "execution": {
     "iopub.execute_input": "2022-09-08T14:47:57.169524Z",
     "iopub.status.busy": "2022-09-08T14:47:57.168936Z",
     "iopub.status.idle": "2022-09-08T14:47:57.176343Z",
     "shell.execute_reply": "2022-09-08T14:47:57.175243Z"
    },
    "id": "04dfba82",
    "outputId": "8265a6ac-793e-4ee1-a48c-129f1439501e",
    "papermill": {
     "duration": 0.02069,
     "end_time": "2022-09-08T14:47:57.178562",
     "exception": false,
     "start_time": "2022-09-08T14:47:57.157872",
     "status": "completed"
    },
    "tags": []
   },
   "outputs": [
    {
     "data": {
      "text/plain": [
       "array([[325.25],\n",
       "       [331.27],\n",
       "       [329.83],\n",
       "       ...,\n",
       "       [793.7 ],\n",
       "       [783.33],\n",
       "       [782.75]])"
      ]
     },
     "execution_count": 228,
     "metadata": {},
     "output_type": "execute_result"
    }
   ],
   "source": [
    "data_set = data.loc[:, [\"Open\"]].values\n",
    "train = data_set[:len(data_set)]\n",
    "#test = data_set[len(train):]\n",
    "\n",
    "train.reshape(train.shape[0],1)"
   ]
  },
  {
   "cell_type": "code",
   "execution_count": null,
   "id": "1-EdCAqGXT5h",
   "metadata": {
    "id": "1-EdCAqGXT5h"
   },
   "outputs": [],
   "source": [
    "test_data = test_data.loc[:, ['Open']].values"
   ]
  },
  {
   "cell_type": "code",
   "execution_count": null,
   "id": "4e9d2ee2",
   "metadata": {
    "execution": {
     "iopub.execute_input": "2022-09-08T14:47:57.271593Z",
     "iopub.status.busy": "2022-09-08T14:47:57.271307Z",
     "iopub.status.idle": "2022-09-08T14:47:57.428879Z",
     "shell.execute_reply": "2022-09-08T14:47:57.428249Z"
    },
    "id": "4e9d2ee2",
    "papermill": {
     "duration": 0.169658,
     "end_time": "2022-09-08T14:47:57.430793",
     "exception": false,
     "start_time": "2022-09-08T14:47:57.261135",
     "status": "completed"
    },
    "tags": []
   },
   "outputs": [],
   "source": [
    "from sklearn.preprocessing import MinMaxScaler\n",
    "scaler = MinMaxScaler(feature_range = (0,1))\n",
    "train_scaler = scaler.fit_transform(train)"
   ]
  },
  {
   "cell_type": "code",
   "execution_count": null,
   "id": "e7c147b1",
   "metadata": {
    "execution": {
     "iopub.execute_input": "2022-09-08T14:47:57.628272Z",
     "iopub.status.busy": "2022-09-08T14:47:57.627919Z",
     "iopub.status.idle": "2022-09-08T14:47:57.636162Z",
     "shell.execute_reply": "2022-09-08T14:47:57.635078Z"
    },
    "id": "e7c147b1",
    "papermill": {
     "duration": 0.020581,
     "end_time": "2022-09-08T14:47:57.638056",
     "exception": false,
     "start_time": "2022-09-08T14:47:57.617475",
     "status": "completed"
    },
    "tags": []
   },
   "outputs": [],
   "source": [
    "X_train = []\n",
    "Y_train = []\n",
    "timesteps = 50\n",
    "\n",
    "for i in range(timesteps, len(train_scaler)):\n",
    "    X_train.append(train_scaler[i - timesteps:i, 0])\n",
    "    Y_train.append(train_scaler[i,0])\n",
    "    \n",
    "X_train, Y_train = np.array(X_train), np.array(Y_train)\n",
    "\n",
    "X_train = np.reshape(X_train, (X_train.shape[0], X_train.shape[1], 1))"
   ]
  },
  {
   "cell_type": "code",
   "execution_count": null,
   "id": "81e6f391",
   "metadata": {
    "colab": {
     "base_uri": "https://localhost:8080/"
    },
    "execution": {
     "iopub.execute_input": "2022-09-08T14:47:57.659094Z",
     "iopub.status.busy": "2022-09-08T14:47:57.658603Z",
     "iopub.status.idle": "2022-09-08T14:47:57.664038Z",
     "shell.execute_reply": "2022-09-08T14:47:57.662559Z"
    },
    "id": "81e6f391",
    "outputId": "d8355fdc-3472-42fc-e008-c82c6ee665de",
    "papermill": {
     "duration": 0.018438,
     "end_time": "2022-09-08T14:47:57.665942",
     "exception": false,
     "start_time": "2022-09-08T14:47:57.647504",
     "status": "completed"
    },
    "tags": []
   },
   "outputs": [
    {
     "data": {
      "text/plain": [
       "(1208, 50, 1)"
      ]
     },
     "execution_count": 232,
     "metadata": {},
     "output_type": "execute_result"
    }
   ],
   "source": [
    "X_train.shape"
   ]
  },
  {
   "cell_type": "markdown",
   "id": "RHkxwG0vMetJ",
   "metadata": {
    "id": "RHkxwG0vMetJ"
   },
   "source": [
    "### RNN"
   ]
  },
  {
   "cell_type": "code",
   "execution_count": null,
   "id": "45c41adf",
   "metadata": {
    "colab": {
     "base_uri": "https://localhost:8080/"
    },
    "execution": {
     "iopub.execute_input": "2022-09-08T14:47:57.766395Z",
     "iopub.status.busy": "2022-09-08T14:47:57.765229Z",
     "iopub.status.idle": "2022-09-08T14:55:28.991405Z",
     "shell.execute_reply": "2022-09-08T14:55:28.990324Z"
    },
    "id": "45c41adf",
    "outputId": "862f57d2-d133-48ce-b478-f8ef60eed289",
    "papermill": {
     "duration": 451.239085,
     "end_time": "2022-09-08T14:55:28.993181",
     "exception": false,
     "start_time": "2022-09-08T14:47:57.754096",
     "status": "completed"
    },
    "tags": []
   },
   "outputs": [
    {
     "name": "stdout",
     "output_type": "stream",
     "text": [
      "Epoch 1/100\n",
      "38/38 [==============================] - 57s 44ms/step - loss: 0.5400\n",
      "Epoch 2/100\n",
      "38/38 [==============================] - 2s 45ms/step - loss: 0.3418\n",
      "Epoch 3/100\n",
      "38/38 [==============================] - 2s 45ms/step - loss: 0.2717\n",
      "Epoch 4/100\n",
      "38/38 [==============================] - 2s 45ms/step - loss: 0.1975\n",
      "Epoch 5/100\n",
      "38/38 [==============================] - 2s 44ms/step - loss: 0.1587\n",
      "Epoch 6/100\n",
      "38/38 [==============================] - 2s 45ms/step - loss: 0.1233\n",
      "Epoch 7/100\n",
      "38/38 [==============================] - 2s 44ms/step - loss: 0.0961\n",
      "Epoch 8/100\n",
      "38/38 [==============================] - 2s 44ms/step - loss: 0.0726\n",
      "Epoch 9/100\n",
      "38/38 [==============================] - 2s 44ms/step - loss: 0.0697\n",
      "Epoch 10/100\n",
      "38/38 [==============================] - 2s 44ms/step - loss: 0.0659\n",
      "Epoch 11/100\n",
      "38/38 [==============================] - 3s 91ms/step - loss: 0.0570\n",
      "Epoch 12/100\n",
      "38/38 [==============================] - 4s 102ms/step - loss: 0.0464\n",
      "Epoch 13/100\n",
      "38/38 [==============================] - 4s 99ms/step - loss: 0.0413\n",
      "Epoch 14/100\n",
      "38/38 [==============================] - 3s 84ms/step - loss: 0.0407\n",
      "Epoch 15/100\n",
      "38/38 [==============================] - 2s 47ms/step - loss: 0.0337\n",
      "Epoch 16/100\n",
      "38/38 [==============================] - 3s 79ms/step - loss: 0.0316\n",
      "Epoch 17/100\n",
      "38/38 [==============================] - 3s 75ms/step - loss: 0.0291\n",
      "Epoch 18/100\n",
      "38/38 [==============================] - 3s 81ms/step - loss: 0.0308\n",
      "Epoch 19/100\n",
      "38/38 [==============================] - 2s 66ms/step - loss: 0.0251\n",
      "Epoch 20/100\n",
      "38/38 [==============================] - 2s 51ms/step - loss: 0.0240\n",
      "Epoch 21/100\n",
      "38/38 [==============================] - 2s 52ms/step - loss: 0.0225\n",
      "Epoch 22/100\n",
      "38/38 [==============================] - 2s 44ms/step - loss: 0.0173\n",
      "Epoch 23/100\n",
      "38/38 [==============================] - 2s 44ms/step - loss: 0.0167\n",
      "Epoch 24/100\n",
      "38/38 [==============================] - 2s 44ms/step - loss: 0.0159\n",
      "Epoch 25/100\n",
      "38/38 [==============================] - 2s 44ms/step - loss: 0.0152\n",
      "Epoch 26/100\n",
      "38/38 [==============================] - 2s 45ms/step - loss: 0.0144\n",
      "Epoch 27/100\n",
      "38/38 [==============================] - 2s 44ms/step - loss: 0.0133\n",
      "Epoch 28/100\n",
      "38/38 [==============================] - 2s 44ms/step - loss: 0.0129\n",
      "Epoch 29/100\n",
      "38/38 [==============================] - 2s 43ms/step - loss: 0.0120\n",
      "Epoch 30/100\n",
      "38/38 [==============================] - 2s 43ms/step - loss: 0.0112\n",
      "Epoch 31/100\n",
      "38/38 [==============================] - 2s 43ms/step - loss: 0.0111\n",
      "Epoch 32/100\n",
      "38/38 [==============================] - 2s 46ms/step - loss: 0.0095\n",
      "Epoch 33/100\n",
      "38/38 [==============================] - 2s 44ms/step - loss: 0.0102\n",
      "Epoch 34/100\n",
      "38/38 [==============================] - 2s 44ms/step - loss: 0.0096\n",
      "Epoch 35/100\n",
      "38/38 [==============================] - 2s 44ms/step - loss: 0.0080\n",
      "Epoch 36/100\n",
      "38/38 [==============================] - 2s 44ms/step - loss: 0.0081\n",
      "Epoch 37/100\n",
      "38/38 [==============================] - 2s 44ms/step - loss: 0.0082\n",
      "Epoch 38/100\n",
      "38/38 [==============================] - 2s 45ms/step - loss: 0.0079\n",
      "Epoch 39/100\n",
      "38/38 [==============================] - 2s 44ms/step - loss: 0.0074\n",
      "Epoch 40/100\n",
      "38/38 [==============================] - 2s 44ms/step - loss: 0.0069\n",
      "Epoch 41/100\n",
      "38/38 [==============================] - 2s 44ms/step - loss: 0.0063\n",
      "Epoch 42/100\n",
      "38/38 [==============================] - 2s 43ms/step - loss: 0.0065\n",
      "Epoch 43/100\n",
      "38/38 [==============================] - 2s 43ms/step - loss: 0.0071\n",
      "Epoch 44/100\n",
      "38/38 [==============================] - 2s 44ms/step - loss: 0.0059\n",
      "Epoch 45/100\n",
      "38/38 [==============================] - 2s 45ms/step - loss: 0.0061\n",
      "Epoch 46/100\n",
      "38/38 [==============================] - 2s 44ms/step - loss: 0.0055\n",
      "Epoch 47/100\n",
      "38/38 [==============================] - 2s 44ms/step - loss: 0.0053\n",
      "Epoch 48/100\n",
      "38/38 [==============================] - 2s 44ms/step - loss: 0.0050\n",
      "Epoch 49/100\n",
      "38/38 [==============================] - 2s 43ms/step - loss: 0.0055\n",
      "Epoch 50/100\n",
      "38/38 [==============================] - 2s 44ms/step - loss: 0.0050\n",
      "Epoch 51/100\n",
      "38/38 [==============================] - 2s 45ms/step - loss: 0.0048\n",
      "Epoch 52/100\n",
      "38/38 [==============================] - 2s 44ms/step - loss: 0.0047\n",
      "Epoch 53/100\n",
      "38/38 [==============================] - 2s 44ms/step - loss: 0.0042\n",
      "Epoch 54/100\n",
      "38/38 [==============================] - 2s 43ms/step - loss: 0.0044\n",
      "Epoch 55/100\n",
      "38/38 [==============================] - 2s 44ms/step - loss: 0.0044\n",
      "Epoch 56/100\n",
      "38/38 [==============================] - 2s 44ms/step - loss: 0.0045\n",
      "Epoch 57/100\n",
      "38/38 [==============================] - 2s 43ms/step - loss: 0.0041\n",
      "Epoch 58/100\n",
      "38/38 [==============================] - 2s 45ms/step - loss: 0.0042\n",
      "Epoch 59/100\n",
      "38/38 [==============================] - 2s 44ms/step - loss: 0.0039\n",
      "Epoch 60/100\n",
      "38/38 [==============================] - 2s 44ms/step - loss: 0.0040\n",
      "Epoch 61/100\n",
      "38/38 [==============================] - 2s 45ms/step - loss: 0.0039\n",
      "Epoch 62/100\n",
      "38/38 [==============================] - 2s 44ms/step - loss: 0.0036\n",
      "Epoch 63/100\n",
      "38/38 [==============================] - 2s 44ms/step - loss: 0.0035\n",
      "Epoch 64/100\n",
      "38/38 [==============================] - 2s 45ms/step - loss: 0.0040\n",
      "Epoch 65/100\n",
      "38/38 [==============================] - 2s 45ms/step - loss: 0.0032\n",
      "Epoch 66/100\n",
      "38/38 [==============================] - 2s 44ms/step - loss: 0.0036\n",
      "Epoch 67/100\n",
      "38/38 [==============================] - 2s 45ms/step - loss: 0.0034\n",
      "Epoch 68/100\n",
      "38/38 [==============================] - 2s 56ms/step - loss: 0.0032\n",
      "Epoch 69/100\n",
      "38/38 [==============================] - 2s 65ms/step - loss: 0.0033\n",
      "Epoch 70/100\n",
      "38/38 [==============================] - 2s 44ms/step - loss: 0.0031\n",
      "Epoch 71/100\n",
      "38/38 [==============================] - 2s 44ms/step - loss: 0.0032\n",
      "Epoch 72/100\n",
      "38/38 [==============================] - 2s 44ms/step - loss: 0.0033\n",
      "Epoch 73/100\n",
      "38/38 [==============================] - 2s 43ms/step - loss: 0.0029\n",
      "Epoch 74/100\n",
      "38/38 [==============================] - 2s 43ms/step - loss: 0.0030\n",
      "Epoch 75/100\n",
      "38/38 [==============================] - 2s 43ms/step - loss: 0.0030\n",
      "Epoch 76/100\n",
      "38/38 [==============================] - 2s 44ms/step - loss: 0.0029\n",
      "Epoch 77/100\n",
      "38/38 [==============================] - 2s 43ms/step - loss: 0.0028\n",
      "Epoch 78/100\n",
      "38/38 [==============================] - 2s 43ms/step - loss: 0.0031\n",
      "Epoch 79/100\n",
      "38/38 [==============================] - 2s 43ms/step - loss: 0.0025\n",
      "Epoch 80/100\n",
      "38/38 [==============================] - 2s 42ms/step - loss: 0.0031\n",
      "Epoch 81/100\n",
      "38/38 [==============================] - 2s 44ms/step - loss: 0.0027\n",
      "Epoch 82/100\n",
      "38/38 [==============================] - 2s 44ms/step - loss: 0.0025\n",
      "Epoch 83/100\n",
      "38/38 [==============================] - 2s 62ms/step - loss: 0.0028\n",
      "Epoch 84/100\n",
      "38/38 [==============================] - 2s 43ms/step - loss: 0.0026\n",
      "Epoch 85/100\n",
      "38/38 [==============================] - 2s 44ms/step - loss: 0.0027\n",
      "Epoch 86/100\n",
      "38/38 [==============================] - 2s 44ms/step - loss: 0.0025\n",
      "Epoch 87/100\n",
      "38/38 [==============================] - 2s 45ms/step - loss: 0.0023\n",
      "Epoch 88/100\n",
      "38/38 [==============================] - 2s 60ms/step - loss: 0.0026\n",
      "Epoch 89/100\n",
      "38/38 [==============================] - 2s 45ms/step - loss: 0.0027\n",
      "Epoch 90/100\n",
      "38/38 [==============================] - 2s 45ms/step - loss: 0.0023\n",
      "Epoch 91/100\n",
      "38/38 [==============================] - 2s 44ms/step - loss: 0.0025\n",
      "Epoch 92/100\n",
      "38/38 [==============================] - 2s 45ms/step - loss: 0.0023\n",
      "Epoch 93/100\n",
      "38/38 [==============================] - 2s 44ms/step - loss: 0.0024\n",
      "Epoch 94/100\n",
      "38/38 [==============================] - 2s 44ms/step - loss: 0.0022\n",
      "Epoch 95/100\n",
      "38/38 [==============================] - 2s 44ms/step - loss: 0.0024\n",
      "Epoch 96/100\n",
      "38/38 [==============================] - 2s 44ms/step - loss: 0.0021\n",
      "Epoch 97/100\n",
      "38/38 [==============================] - 2s 43ms/step - loss: 0.0021\n",
      "Epoch 98/100\n",
      "38/38 [==============================] - 2s 44ms/step - loss: 0.0020\n",
      "Epoch 99/100\n",
      "38/38 [==============================] - 2s 44ms/step - loss: 0.0023\n",
      "Epoch 100/100\n",
      "38/38 [==============================] - 2s 43ms/step - loss: 0.0020\n"
     ]
    },
    {
     "data": {
      "text/plain": [
       "<keras.callbacks.History at 0x7f3b8ae8a090>"
      ]
     },
     "execution_count": 233,
     "metadata": {},
     "output_type": "execute_result"
    }
   ],
   "source": [
    "from keras.models import Sequential\n",
    "from keras.layers import Dense, SimpleRNN, Dropout\n",
    "\n",
    "regressor = Sequential()\n",
    "\n",
    "regressor.add(SimpleRNN(units = 50, activation = \"tanh\", return_sequences = True, input_shape = (X_train.shape[1], 1)))\n",
    "regressor.add(Dropout(0.2))\n",
    "regressor.add(SimpleRNN(units = 50, activation = \"tanh\", return_sequences = True))\n",
    "regressor.add(Dropout(0.2))\n",
    "regressor.add(SimpleRNN(units = 50, activation = \"tanh\", return_sequences = True))\n",
    "regressor.add(Dropout(0.2))\n",
    "regressor.add(SimpleRNN(units = 50))\n",
    "regressor.add(Dropout(0.2))\n",
    "regressor.add(Dense(units = 1))\n",
    "regressor.compile(optimizer = \"adam\", loss = \"mean_squared_error\")\n",
    "regressor.fit(X_train, Y_train, epochs = 100, batch_size = 32)"
   ]
  },
  {
   "cell_type": "code",
   "execution_count": null,
   "id": "WCPkQ0A3ZnwH",
   "metadata": {
    "colab": {
     "base_uri": "https://localhost:8080/"
    },
    "id": "WCPkQ0A3ZnwH",
    "outputId": "70a92ffe-d1ca-4915-f873-ef916bf3b5c5"
   },
   "outputs": [
    {
     "data": {
      "text/plain": [
       "(70, 1)"
      ]
     },
     "execution_count": 234,
     "metadata": {},
     "output_type": "execute_result"
    }
   ],
   "source": [
    "test_input = data_set[-50:]\n",
    "test_set = np.concatenate((test_input, test_data), axis = 0)\n",
    "test_set.shape"
   ]
  },
  {
   "cell_type": "code",
   "execution_count": null,
   "id": "05cb8ab5",
   "metadata": {
    "execution": {
     "iopub.execute_input": "2022-09-08T14:55:30.284097Z",
     "iopub.status.busy": "2022-09-08T14:55:30.282811Z",
     "iopub.status.idle": "2022-09-08T14:55:30.288596Z",
     "shell.execute_reply": "2022-09-08T14:55:30.287308Z"
    },
    "id": "05cb8ab5",
    "papermill": {
     "duration": 0.283901,
     "end_time": "2022-09-08T14:55:30.290538",
     "exception": false,
     "start_time": "2022-09-08T14:55:30.006637",
     "status": "completed"
    },
    "tags": []
   },
   "outputs": [],
   "source": [
    "inputs = test_set\n",
    "inputs = scaler.transform(inputs)"
   ]
  },
  {
   "cell_type": "code",
   "execution_count": null,
   "id": "jDX-6OPehHHb",
   "metadata": {
    "colab": {
     "base_uri": "https://localhost:8080/"
    },
    "id": "jDX-6OPehHHb",
    "outputId": "ac58f3bc-2787-488d-e52e-46f3752610bf"
   },
   "outputs": [
    {
     "data": {
      "text/plain": [
       "(70, 1)"
      ]
     },
     "execution_count": 236,
     "metadata": {},
     "output_type": "execute_result"
    }
   ],
   "source": [
    "inputs.shape"
   ]
  },
  {
   "cell_type": "code",
   "execution_count": null,
   "id": "e804db45",
   "metadata": {
    "execution": {
     "iopub.execute_input": "2022-09-08T14:55:30.677320Z",
     "iopub.status.busy": "2022-09-08T14:55:30.676568Z",
     "iopub.status.idle": "2022-09-08T14:55:31.234012Z",
     "shell.execute_reply": "2022-09-08T14:55:31.232715Z"
    },
    "id": "e804db45",
    "papermill": {
     "duration": 0.748737,
     "end_time": "2022-09-08T14:55:31.236668",
     "exception": false,
     "start_time": "2022-09-08T14:55:30.487931",
     "status": "completed"
    },
    "tags": []
   },
   "outputs": [],
   "source": [
    "X_test = []\n",
    "Y_test = []\n",
    "for i in range(timesteps, inputs.shape[0]):\n",
    "    X_test.append(inputs[i - timesteps:i, 0])\n",
    "    Y_test.append(inputs[i,0])\n",
    "    \n",
    "X_test_rnn = np.array(X_test)\n",
    "X_test_rnn = np.reshape(X_test_rnn, (X_test_rnn.shape[0], X_test_rnn.shape[1], 1))\n",
    "predicted_stock_price = regressor.predict(X_test_rnn)\n",
    "predicted_stock_price = scaler.inverse_transform(predicted_stock_price)"
   ]
  },
  {
   "cell_type": "code",
   "execution_count": null,
   "id": "4e4ac081",
   "metadata": {
    "colab": {
     "base_uri": "https://localhost:8080/",
     "height": 295
    },
    "execution": {
     "iopub.execute_input": "2022-09-08T14:55:32.046133Z",
     "iopub.status.busy": "2022-09-08T14:55:32.045831Z",
     "iopub.status.idle": "2022-09-08T14:55:32.210265Z",
     "shell.execute_reply": "2022-09-08T14:55:32.209253Z"
    },
    "id": "4e4ac081",
    "outputId": "c3b1f0a0-d248-4117-9757-d149f3dce0dd",
    "papermill": {
     "duration": 0.36938,
     "end_time": "2022-09-08T14:55:32.212064",
     "exception": false,
     "start_time": "2022-09-08T14:55:31.842684",
     "status": "completed"
    },
    "tags": []
   },
   "outputs": [
    {
     "data": {
      "image/png": "[encoded data removed]",
      "text/plain": [
       "<Figure size 432x288 with 1 Axes>"
      ]
     },
     "metadata": {
      "needs_background": "light"
     },
     "output_type": "display_data"
    }
   ],
   "source": [
    "plt.plot(test_data, color = \"red\", label = \"Real Google Stock Price\")\n",
    "plt.plot(predicted_stock_price, color = \"blue\", label = \"Predicted Google Stock Price\")\n",
    "plt.title(\"Google Stock Price Prediction\")\n",
    "plt.xlabel(\"Time\")\n",
    "plt.ylabel(\"Google Stock Price\")\n",
    "plt.legend()\n",
    "plt.show()"
   ]
  },
  {
   "cell_type": "markdown",
   "id": "8vIlrx9RMh8h",
   "metadata": {
    "id": "8vIlrx9RMh8h"
   },
   "source": [
    "### LSTM"
   ]
  },
  {
   "cell_type": "code",
   "execution_count": null,
   "id": "95c40635",
   "metadata": {
    "execution": {
     "iopub.execute_input": "2022-09-08T14:55:33.879434Z",
     "iopub.status.busy": "2022-09-08T14:55:33.878849Z",
     "iopub.status.idle": "2022-09-08T14:55:33.883626Z",
     "shell.execute_reply": "2022-09-08T14:55:33.882618Z"
    },
    "id": "95c40635",
    "papermill": {
     "duration": 0.212925,
     "end_time": "2022-09-08T14:55:33.885731",
     "exception": false,
     "start_time": "2022-09-08T14:55:33.672806",
     "status": "completed"
    },
    "tags": []
   },
   "outputs": [],
   "source": [
    "trainX = np.reshape(X_train, (X_train.shape[0], 1, X_train.shape[1]))"
   ]
  },
  {
   "cell_type": "code",
   "execution_count": null,
   "id": "4040b3b8",
   "metadata": {
    "execution": {
     "iopub.execute_input": "2022-09-08T14:55:34.340955Z",
     "iopub.status.busy": "2022-09-08T14:55:34.340267Z",
     "iopub.status.idle": "2022-09-08T14:55:34.395779Z",
     "shell.execute_reply": "2022-09-08T14:55:34.394746Z"
    },
    "id": "4040b3b8",
    "papermill": {
     "duration": 0.26043,
     "end_time": "2022-09-08T14:55:34.398006",
     "exception": false,
     "start_time": "2022-09-08T14:55:34.137576",
     "status": "completed"
    },
    "tags": []
   },
   "outputs": [],
   "source": [
    "import math\n",
    "from keras.models import Sequential\n",
    "from keras.layers import Dense, LSTM\n",
    "from sklearn.preprocessing import MinMaxScaler\n",
    "from sklearn.metrics import mean_squared_error"
   ]
  },
  {
   "cell_type": "code",
   "execution_count": null,
   "id": "606685ac",
   "metadata": {
    "colab": {
     "base_uri": "https://localhost:8080/"
    },
    "execution": {
     "iopub.execute_input": "2022-09-08T14:55:35.206933Z",
     "iopub.status.busy": "2022-09-08T14:55:35.206457Z",
     "iopub.status.idle": "2022-09-08T14:57:12.620382Z",
     "shell.execute_reply": "2022-09-08T14:57:12.619631Z"
    },
    "id": "606685ac",
    "outputId": "d229c831-14ff-44e3-b1a8-c82e8ea47e15",
    "papermill": {
     "duration": 97.61859,
     "end_time": "2022-09-08T14:57:12.621971",
     "exception": false,
     "start_time": "2022-09-08T14:55:35.003381",
     "status": "completed"
    },
    "tags": []
   },
   "outputs": [
    {
     "name": "stdout",
     "output_type": "stream",
     "text": [
      "Epoch 1/50\n",
      "1208/1208 [==============================] - 16s 8ms/step - loss: 0.0077\n",
      "Epoch 2/50\n",
      "1208/1208 [==============================] - 5s 4ms/step - loss: 0.0023\n",
      "Epoch 3/50\n",
      "1208/1208 [==============================] - 5s 4ms/step - loss: 0.0016\n",
      "Epoch 4/50\n",
      "   1/1208 [..............................] - ETA: 9s - loss: 1.9781e-05"
     ]
    }
   ],
   "source": [
    "model = Sequential()\n",
    "model.add(LSTM(timesteps, return_sequences=True, input_shape = (1, timesteps)))\n",
    "model.add(LSTM(timesteps, return_sequences=True))\n",
    "model.add(LSTM(timesteps, return_sequences=True))\n",
    "model.add(LSTM(timesteps))\n",
    "model.add(Dense(1))\n",
    "model.compile(loss = \"mean_squared_error\", optimizer = \"adam\")\n",
    "model.fit(trainX, Y_train, epochs = 50, batch_size = 1)"
   ]
  },
  {
   "cell_type": "code",
   "execution_count": null,
   "id": "0a5e72d4",
   "metadata": {
    "execution": {
     "iopub.execute_input": "2022-09-08T14:57:13.890227Z",
     "iopub.status.busy": "2022-09-08T14:57:13.889870Z",
     "iopub.status.idle": "2022-09-08T14:57:14.237598Z",
     "shell.execute_reply": "2022-09-08T14:57:14.236396Z"
    },
    "id": "0a5e72d4",
    "papermill": {
     "duration": 0.703389,
     "end_time": "2022-09-08T14:57:14.239983",
     "exception": false,
     "start_time": "2022-09-08T14:57:13.536594",
     "status": "completed"
    },
    "tags": []
   },
   "outputs": [],
   "source": [
    "testX = np.array(X_test)\n",
    "testX = testX.reshape(testX.shape[0], 1, testX.shape[1])\n",
    "predict_lstm = model.predict(testX)\n",
    "predict_lstm = scaler.inverse_transform(predict_lstm)"
   ]
  },
  {
   "cell_type": "code",
   "execution_count": null,
   "id": "97c123ff",
   "metadata": {
    "execution": {
     "iopub.execute_input": "2022-09-08T14:57:15.505891Z",
     "iopub.status.busy": "2022-09-08T14:57:15.505354Z",
     "iopub.status.idle": "2022-09-08T14:57:15.664587Z",
     "shell.execute_reply": "2022-09-08T14:57:15.663244Z"
    },
    "id": "97c123ff",
    "papermill": {
     "duration": 0.513471,
     "end_time": "2022-09-08T14:57:15.666719",
     "exception": false,
     "start_time": "2022-09-08T14:57:15.153248",
     "status": "completed"
    },
    "tags": []
   },
   "outputs": [],
   "source": [
    "plt.plot(test_data, color = \"red\", label = \"Real Google Stock Price\")\n",
    "plt.plot(predict_lstm, color = \"blue\", label = \"Predicted Google Stock Price\")\n",
    "plt.title(\"Google Stock Price Prediction\")\n",
    "plt.xlabel(\"Time\")\n",
    "plt.ylabel(\"Google Stock Price\")\n",
    "plt.legend()\n",
    "plt.show()"
   ]
  }
 ],
 "metadata": {
  "colab": {
   "collapsed_sections": [],
   "provenance": []
  },
  "kernelspec": {
   "display_name": "Python 3 (ipykernel)",
   "language": "python",
   "name": "python3"
  },
  "language_info": {
   "codemirror_mode": {
    "name": "ipython",
    "version": 3
   },
   "file_extension": ".py",
   "mimetype": "text/x-python",
   "name": "python",
   "nbconvert_exporter": "python",
   "pygments_lexer": "ipython3",
   "version": "3.8.10"
  },
  "papermill": {
   "default_parameters": {},
   "duration": 571.368981,
   "end_time": "2022-09-08T14:57:19.481461",
   "environment_variables": {},
   "exception": null,
   "input_path": "__notebook__.ipynb",
   "output_path": "__notebook__.ipynb",
   "parameters": {},
   "start_time": "2022-09-08T14:47:48.112480",
   "version": "2.3.4"
  }
 },
 "nbformat": 4,
 "nbformat_minor": 5
}
